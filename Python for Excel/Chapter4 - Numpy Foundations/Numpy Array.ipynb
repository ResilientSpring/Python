{
 "cells": [
  {
   "cell_type": "code",
   "execution_count": 1,
   "metadata": {
    "collapsed": true
   },
   "outputs": [
    {
     "data": {
      "text/plain": "array([[2., 3., 4.],\n       [5., 6., 7.]])"
     },
     "execution_count": 1,
     "metadata": {},
     "output_type": "execute_result"
    }
   ],
   "source": [
    "# First, let's import NumPy\n",
    "import numpy as np\n",
    "\n",
    "# Constructing an array with a simple list results in a 1d array\n",
    "array1 = np.array([10, 100, 1000.]);\n",
    "\n",
    "# Constructing an array with a nested list results in a 2d array\n",
    "array2 = np.array([[1., 2., 3.],\n",
    "                   [4., 5., 6.]]);\n",
    "array2 + 1"
   ]
  }
 ],
 "metadata": {
  "kernelspec": {
   "display_name": "Python 3",
   "language": "python",
   "name": "python3"
  },
  "language_info": {
   "codemirror_mode": {
    "name": "ipython",
    "version": 2
   },
   "file_extension": ".py",
   "mimetype": "text/x-python",
   "name": "python",
   "nbconvert_exporter": "python",
   "pygments_lexer": "ipython2",
   "version": "2.7.6"
  }
 },
 "nbformat": 4,
 "nbformat_minor": 0
}
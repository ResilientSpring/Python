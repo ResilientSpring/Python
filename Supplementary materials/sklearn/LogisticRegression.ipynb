{
 "cells": [
  {
   "cell_type": "code",
   "execution_count": null,
   "metadata": {
    "collapsed": true
   },
   "outputs": [],
   "source": [
    "# The ‘newton-cg’, ‘sag’, and ‘lbfgs’ solvers support only L2 regularization with primal formulation, or no regularization.\n",
    "# The ‘liblinear’ solver supports both L1 and L2 regularization, with a dual formulation only for the L2 penalty.\n",
    "\n",
    "# Parameters:\n",
    "# penalty: {‘l1’, ‘l2’, ‘elasticnet’, ‘none’}, default=’l2’\n",
    "#\n",
    "#   Used to specify the norm used in the penalization.\n",
    "#\n",
    "# Source:\n",
    "# https://scikit-learn.org/stable/modules/generated/sklearn.linear_model.LogisticRegression.html"
   ]
  }
 ],
 "metadata": {
  "kernelspec": {
   "display_name": "Python 3",
   "language": "python",
   "name": "python3"
  },
  "language_info": {
   "codemirror_mode": {
    "name": "ipython",
    "version": 2
   },
   "file_extension": ".py",
   "mimetype": "text/x-python",
   "name": "python",
   "nbconvert_exporter": "python",
   "pygments_lexer": "ipython2",
   "version": "2.7.6"
  }
 },
 "nbformat": 4,
 "nbformat_minor": 0
}
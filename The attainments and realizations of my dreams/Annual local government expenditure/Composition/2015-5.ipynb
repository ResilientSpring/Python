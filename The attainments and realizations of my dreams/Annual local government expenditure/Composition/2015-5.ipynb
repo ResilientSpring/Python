{
 "cells": [
  {
   "cell_type": "code",
   "execution_count": null,
   "id": "initial_id",
   "metadata": {
    "collapsed": true
   },
   "outputs": [],
   "source": [
    ""
   ]
  },
  {
   "metadata": {
    "jupyter": {
     "is_executing": true
    }
   },
   "cell_type": "code",
   "source": [
    "import matplotlib.pyplot as plt\n",
    "import numpy as np\n",
    "\n",
    "species = ('Taipei', 'New Taipei', \"Taoyuan\", 'Taichung', \"Tainan\", 'Kaohsiung')\n",
    "allotted_money = {\n",
    "    'Statutory': [34.95, 26.52, 17.12, 20.63, 17.44, 26.47],  #[1]:18\n",
    "    'Federal discretionary subsidy': [17.12, 31.11, 15.21, 24.88, 22.85, 27.83], #[1]:25\n",
    "}\n",
    "\n",
    "sum = [allotted_money['Statutory'][0] + allotted_money[\"Federal discretionary subsidy\"][0],\n",
    "       allotted_money[\"Statutory\"][1] + allotted_money[\"Federal discretionary subsidy\"][1],\n",
    "       allotted_money[\"Statutory\"][2] + allotted_money[\"Federal discretionary subsidy\"][2],\n",
    "       allotted_money[\"Statutory\"][3] + allotted_money[\"Federal discretionary subsidy\"][3],\n",
    "       allotted_money[\"Statutory\"][4] + allotted_money[\"Federal discretionary subsidy\"][4],\n",
    "       allotted_money[\"Statutory\"][5] + allotted_money[\"Federal discretionary subsidy\"][5]\n",
    "       ]\n",
    "\n",
    "fig, ax = plt.subplots()\n",
    "bottom = np.zeros(6)\n",
    "\n",
    "p = 0\n",
    "\n",
    "for sex, sex_count in allotted_money.items():\n",
    "    p = ax.bar(species, sex_count, width=0.6, label=sex, bottom=bottom)  #[Note1]\n",
    "    bottom += sex_count\n",
    "\n",
    "    ax.bar_label(p, label_type='center')\n",
    "\n",
    "    # for rect in p:\n",
    "    #     height = rect.get_height()\n",
    "    #     ax.text(rect.get_x() + rect.get_width() / 2., 2.001 * height,\n",
    "    #             '%d' % int(height), ha='center', va='bottom', fontsize=12)\n",
    "\n",
    "ax.bar_label(p, labels=sum, fmt=\"{:3.2f}\", label_type=\"edge\")\n",
    "\n",
    "# plot = ax.bar(region_num, position_vacancies, width=0.6)\n",
    "#\n",
    "# for rect in plot:\n",
    "#     height = rect.get_height()\n",
    "#     ax.text(rect.get_x() + rect.get_width() / 2., 1.002 * height,\n",
    "#             '%d' % int(height), ha='center', va='bottom', fontsize=12)\n",
    "\n",
    "ax.set_title(\"2015's composition of local government's income\")\n",
    "ax.legend()\n",
    "\n",
    "plt.show()\n",
    "\n",
    "# References:\n",
    "# 1. https://ws.dgbas.gov.tw/public/attachment/5611134736t64w6mty.pdf\n",
    "# 2.\n",
    "\n",
    "# Notes:\n",
    "# 1. when having duplicate values in categorical x data,\n",
    "# these values map to the same numerical x coordinate, and hence the corresponding bars\n",
    "# are drawn on top of each other. [2]\n"
   ],
   "id": "4b1bd0ee69789a25",
   "outputs": [],
   "execution_count": null
  }
 ],
 "metadata": {
  "kernelspec": {
   "display_name": "Python 3",
   "language": "python",
   "name": "python3"
  },
  "language_info": {
   "codemirror_mode": {
    "name": "ipython",
    "version": 2
   },
   "file_extension": ".py",
   "mimetype": "text/x-python",
   "name": "python",
   "nbconvert_exporter": "python",
   "pygments_lexer": "ipython2",
   "version": "2.7.6"
  }
 },
 "nbformat": 4,
 "nbformat_minor": 5
}
